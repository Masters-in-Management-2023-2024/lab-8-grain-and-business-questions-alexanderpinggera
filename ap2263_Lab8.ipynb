{
  "nbformat": 4,
  "nbformat_minor": 0,
  "metadata": {
    "colab": {
      "provenance": []
    },
    "kernelspec": {
      "name": "python3",
      "display_name": "Python 3"
    },
    "language_info": {
      "name": "python"
    }
  },
  "cells": [
    {
      "cell_type": "code",
      "execution_count": null,
      "metadata": {
        "colab": {
          "base_uri": "https://localhost:8080/"
        },
        "id": "P7WUrUyGyoWd",
        "outputId": "643a4502-13fd-4b2f-ec11-716361ee55a5"
      },
      "outputs": [
        {
          "output_type": "stream",
          "name": "stdout",
          "text": [
            "Loading diamonds dataset...\n",
            "Dataset loaded successfully!\n"
          ]
        }
      ],
      "source": [
        "import polars as pl\n",
        "\n",
        "print(\"Loading diamonds dataset...\")\n",
        "df = pl.read_csv('https://raw.githubusercontent.com/pycaret/pycaret/master/datasets/diamond.csv')\n",
        "print(\"Dataset loaded successfully!\")"
      ]
    },
    {
      "cell_type": "code",
      "source": [
        "#Question1\n",
        "df.height"
      ],
      "metadata": {
        "colab": {
          "base_uri": "https://localhost:8080/"
        },
        "id": "teUaetSkzFyS",
        "outputId": "ab4e04ed-9bf1-4dfa-9200-53e048687355"
      },
      "execution_count": null,
      "outputs": [
        {
          "output_type": "execute_result",
          "data": {
            "text/plain": [
              "6000"
            ]
          },
          "metadata": {},
          "execution_count": 3
        }
      ]
    },
    {
      "cell_type": "code",
      "source": [
        "#Question2\n",
        "col_names = df.columns\n",
        "col_names"
      ],
      "metadata": {
        "colab": {
          "base_uri": "https://localhost:8080/"
        },
        "id": "CXLyrNduzHsY",
        "outputId": "ba202912-8085-4440-867f-8d5378a7c1d6"
      },
      "execution_count": null,
      "outputs": [
        {
          "output_type": "execute_result",
          "data": {
            "text/plain": [
              "['Carat Weight',\n",
              " 'Cut',\n",
              " 'Color',\n",
              " 'Clarity',\n",
              " 'Polish',\n",
              " 'Symmetry',\n",
              " 'Report',\n",
              " 'Price']"
            ]
          },
          "metadata": {},
          "execution_count": 4
        }
      ]
    },
    {
      "cell_type": "code",
      "source": [
        "#Question3\n",
        "#Each row represents the characteristics of a diamond (grain = 1 row is 1 diamond)\n",
        "df.head()"
      ],
      "metadata": {
        "colab": {
          "base_uri": "https://localhost:8080/",
          "height": 255
        },
        "id": "krCADE-OzMVj",
        "outputId": "8ea13d5c-1328-4ad5-ff50-c1937b9b56cb"
      },
      "execution_count": null,
      "outputs": [
        {
          "output_type": "execute_result",
          "data": {
            "text/plain": [
              "shape: (5, 8)\n",
              "┌──────────────┬───────┬───────┬─────────┬────────┬──────────┬────────┬───────┐\n",
              "│ Carat Weight ┆ Cut   ┆ Color ┆ Clarity ┆ Polish ┆ Symmetry ┆ Report ┆ Price │\n",
              "│ ---          ┆ ---   ┆ ---   ┆ ---     ┆ ---    ┆ ---      ┆ ---    ┆ ---   │\n",
              "│ f64          ┆ str   ┆ str   ┆ str     ┆ str    ┆ str      ┆ str    ┆ i64   │\n",
              "╞══════════════╪═══════╪═══════╪═════════╪════════╪══════════╪════════╪═══════╡\n",
              "│ 1.1          ┆ Ideal ┆ H     ┆ SI1     ┆ VG     ┆ EX       ┆ GIA    ┆ 5169  │\n",
              "│ 0.83         ┆ Ideal ┆ H     ┆ VS1     ┆ ID     ┆ ID       ┆ AGSL   ┆ 3470  │\n",
              "│ 0.85         ┆ Ideal ┆ H     ┆ SI1     ┆ EX     ┆ EX       ┆ GIA    ┆ 3183  │\n",
              "│ 0.91         ┆ Ideal ┆ E     ┆ SI1     ┆ VG     ┆ VG       ┆ GIA    ┆ 4370  │\n",
              "│ 0.83         ┆ Ideal ┆ G     ┆ SI1     ┆ EX     ┆ EX       ┆ GIA    ┆ 3171  │\n",
              "└──────────────┴───────┴───────┴─────────┴────────┴──────────┴────────┴───────┘"
            ],
            "text/html": [
              "<div><style>\n",
              ".dataframe > thead > tr,\n",
              ".dataframe > tbody > tr {\n",
              "  text-align: right;\n",
              "  white-space: pre-wrap;\n",
              "}\n",
              "</style>\n",
              "<small>shape: (5, 8)</small><table border=\"1\" class=\"dataframe\"><thead><tr><th>Carat Weight</th><th>Cut</th><th>Color</th><th>Clarity</th><th>Polish</th><th>Symmetry</th><th>Report</th><th>Price</th></tr><tr><td>f64</td><td>str</td><td>str</td><td>str</td><td>str</td><td>str</td><td>str</td><td>i64</td></tr></thead><tbody><tr><td>1.1</td><td>&quot;Ideal&quot;</td><td>&quot;H&quot;</td><td>&quot;SI1&quot;</td><td>&quot;VG&quot;</td><td>&quot;EX&quot;</td><td>&quot;GIA&quot;</td><td>5169</td></tr><tr><td>0.83</td><td>&quot;Ideal&quot;</td><td>&quot;H&quot;</td><td>&quot;VS1&quot;</td><td>&quot;ID&quot;</td><td>&quot;ID&quot;</td><td>&quot;AGSL&quot;</td><td>3470</td></tr><tr><td>0.85</td><td>&quot;Ideal&quot;</td><td>&quot;H&quot;</td><td>&quot;SI1&quot;</td><td>&quot;EX&quot;</td><td>&quot;EX&quot;</td><td>&quot;GIA&quot;</td><td>3183</td></tr><tr><td>0.91</td><td>&quot;Ideal&quot;</td><td>&quot;E&quot;</td><td>&quot;SI1&quot;</td><td>&quot;VG&quot;</td><td>&quot;VG&quot;</td><td>&quot;GIA&quot;</td><td>4370</td></tr><tr><td>0.83</td><td>&quot;Ideal&quot;</td><td>&quot;G&quot;</td><td>&quot;SI1&quot;</td><td>&quot;EX&quot;</td><td>&quot;EX&quot;</td><td>&quot;GIA&quot;</td><td>3171</td></tr></tbody></table></div>"
            ]
          },
          "metadata": {},
          "execution_count": 5
        }
      ]
    },
    {
      "cell_type": "code",
      "source": [
        "#Question4\n",
        "import polars as pl\n",
        "\n",
        "carat_count = df.select(pl.col('Carat Weight').sum()).item()\n",
        "carat_count"
      ],
      "metadata": {
        "colab": {
          "base_uri": "https://localhost:8080/"
        },
        "id": "NHX5aJWhzQZc",
        "outputId": "a3b67cc1-9f93-43a9-84f4-3813c8803c66"
      },
      "execution_count": null,
      "outputs": [
        {
          "output_type": "execute_result",
          "data": {
            "text/plain": [
              "8007.120000000001"
            ]
          },
          "metadata": {},
          "execution_count": 6
        }
      ]
    },
    {
      "cell_type": "code",
      "source": [
        "#Question5\n",
        "cut_variety = df.select(pl.col('Cut').unique())\n",
        "cut_variety_count = df.select(pl.col('Cut').n_unique()).item()\n",
        "print(cut_variety)\n",
        "print(f'Total unique varieties of cut = {cut_variety_count}')"
      ],
      "metadata": {
        "colab": {
          "base_uri": "https://localhost:8080/"
        },
        "id": "6Giv-QDP259D",
        "outputId": "28ee19f7-6d37-467e-ce1f-9f51076fef27"
      },
      "execution_count": null,
      "outputs": [
        {
          "output_type": "stream",
          "name": "stdout",
          "text": [
            "shape: (5, 1)\n",
            "┌─────────────────┐\n",
            "│ Cut             │\n",
            "│ ---             │\n",
            "│ str             │\n",
            "╞═════════════════╡\n",
            "│ Ideal           │\n",
            "│ Fair            │\n",
            "│ Very Good       │\n",
            "│ Signature-Ideal │\n",
            "│ Good            │\n",
            "└─────────────────┘\n",
            "Total unique varieties of cut = 5\n"
          ]
        }
      ]
    },
    {
      "cell_type": "code",
      "source": [
        "#Question6\n",
        "most_expensive_rock = df.select(pl.col('Price').max()).item()\n",
        "cheapests_rock = df.select(pl.col('Price').min()).item()\n",
        "print(f'The most expensive diamond costs ${most_expensive_rock:,.2f}')\n",
        "print(f'and the cheapest diamond costs ${cheapests_rock:,.2f}')"
      ],
      "metadata": {
        "colab": {
          "base_uri": "https://localhost:8080/"
        },
        "id": "fvKmbmAb3Ktt",
        "outputId": "861fac09-98b1-4c19-911d-ddb5750542b4"
      },
      "execution_count": null,
      "outputs": [
        {
          "output_type": "stream",
          "name": "stdout",
          "text": [
            "The most expensive diamond costs $101,561.00\n",
            "and the cheapest diamond costs $2,184.00\n"
          ]
        }
      ]
    },
    {
      "cell_type": "code",
      "source": [
        "#Question7\n",
        "price_by_color = df.group_by('Color').agg(pl.col('Price').mean())\n",
        "price_by_color\n",
        "\n",
        "#new grain = 1 row is 1 color\n",
        "#now each row represents the average price for all diamonds of a particular color"
      ],
      "metadata": {
        "colab": {
          "base_uri": "https://localhost:8080/",
          "height": 286
        },
        "id": "6U-FGiHF3XwV",
        "outputId": "f487200c-b489-442f-a94d-eb1507615b80"
      },
      "execution_count": null,
      "outputs": [
        {
          "output_type": "execute_result",
          "data": {
            "text/plain": [
              "shape: (6, 2)\n",
              "┌───────┬──────────────┐\n",
              "│ Color ┆ Price        │\n",
              "│ ---   ┆ ---          │\n",
              "│ str   ┆ f64          │\n",
              "╞═══════╪══════════════╡\n",
              "│ I     ┆ 8989.636364  │\n",
              "│ D     ┆ 15255.783661 │\n",
              "│ H     ┆ 10487.347544 │\n",
              "│ F     ┆ 12712.241856 │\n",
              "│ G     ┆ 12520.050633 │\n",
              "│ E     ┆ 11539.190231 │\n",
              "└───────┴──────────────┘"
            ],
            "text/html": [
              "<div><style>\n",
              ".dataframe > thead > tr,\n",
              ".dataframe > tbody > tr {\n",
              "  text-align: right;\n",
              "  white-space: pre-wrap;\n",
              "}\n",
              "</style>\n",
              "<small>shape: (6, 2)</small><table border=\"1\" class=\"dataframe\"><thead><tr><th>Color</th><th>Price</th></tr><tr><td>str</td><td>f64</td></tr></thead><tbody><tr><td>&quot;I&quot;</td><td>8989.636364</td></tr><tr><td>&quot;D&quot;</td><td>15255.783661</td></tr><tr><td>&quot;H&quot;</td><td>10487.347544</td></tr><tr><td>&quot;F&quot;</td><td>12712.241856</td></tr><tr><td>&quot;G&quot;</td><td>12520.050633</td></tr><tr><td>&quot;E&quot;</td><td>11539.190231</td></tr></tbody></table></div>"
            ]
          },
          "metadata": {},
          "execution_count": 10
        }
      ]
    },
    {
      "cell_type": "code",
      "source": [
        "#Question8\n",
        "clarity_based = df.group_by('Clarity').agg(\n",
        "    pl.col('Clarity').count().alias('count'),\n",
        "    pl.col('Price').mean().alias('avg_Price'),\n",
        "     pl.col('Carat Weight').sum().alias('total_carat_weight'))\n",
        "\n",
        "clarity_based"
      ],
      "metadata": {
        "colab": {
          "base_uri": "https://localhost:8080/",
          "height": 318
        },
        "id": "yjUQWGn_3hYO",
        "outputId": "11297a92-b72a-43d6-a168-ef28236cc28f"
      },
      "execution_count": null,
      "outputs": [
        {
          "output_type": "execute_result",
          "data": {
            "text/plain": [
              "shape: (7, 4)\n",
              "┌─────────┬───────┬──────────────┬────────────────────┐\n",
              "│ Clarity ┆ count ┆ avg_Price    ┆ total_carat_weight │\n",
              "│ ---     ┆ ---   ┆ ---          ┆ ---                │\n",
              "│ str     ┆ u32   ┆ f64          ┆ f64                │\n",
              "╞═════════╪═══════╪══════════════╪════════════════════╡\n",
              "│ VS2     ┆ 1575  ┆ 11809.053333 ┆ 2170.81            │\n",
              "│ SI1     ┆ 2059  ┆ 8018.864012  ┆ 2563.69            │\n",
              "│ VVS1    ┆ 285   ┆ 16845.680702 ┆ 389.43             │\n",
              "│ FL      ┆ 4     ┆ 63776.0      ┆ 7.87               │\n",
              "│ VVS2    ┆ 666   ┆ 14142.177177 ┆ 876.58             │\n",
              "│ IF      ┆ 219   ┆ 22105.844749 ┆ 316.0              │\n",
              "│ VS1     ┆ 1192  ┆ 13694.113255 ┆ 1682.74            │\n",
              "└─────────┴───────┴──────────────┴────────────────────┘"
            ],
            "text/html": [
              "<div><style>\n",
              ".dataframe > thead > tr,\n",
              ".dataframe > tbody > tr {\n",
              "  text-align: right;\n",
              "  white-space: pre-wrap;\n",
              "}\n",
              "</style>\n",
              "<small>shape: (7, 4)</small><table border=\"1\" class=\"dataframe\"><thead><tr><th>Clarity</th><th>count</th><th>avg_Price</th><th>total_carat_weight</th></tr><tr><td>str</td><td>u32</td><td>f64</td><td>f64</td></tr></thead><tbody><tr><td>&quot;VS2&quot;</td><td>1575</td><td>11809.053333</td><td>2170.81</td></tr><tr><td>&quot;SI1&quot;</td><td>2059</td><td>8018.864012</td><td>2563.69</td></tr><tr><td>&quot;VVS1&quot;</td><td>285</td><td>16845.680702</td><td>389.43</td></tr><tr><td>&quot;FL&quot;</td><td>4</td><td>63776.0</td><td>7.87</td></tr><tr><td>&quot;VVS2&quot;</td><td>666</td><td>14142.177177</td><td>876.58</td></tr><tr><td>&quot;IF&quot;</td><td>219</td><td>22105.844749</td><td>316.0</td></tr><tr><td>&quot;VS1&quot;</td><td>1192</td><td>13694.113255</td><td>1682.74</td></tr></tbody></table></div>"
            ]
          },
          "metadata": {},
          "execution_count": 11
        }
      ]
    },
    {
      "cell_type": "code",
      "source": [
        "#Question9\n",
        "cut_color_based = df.group_by(['Cut', 'Color']).agg(pl.col('Price').mean().alias('avg_Price'))\n",
        "cut_color_based\n",
        "\n",
        "#New grain = 1 row is 1 cut-color combo\n",
        "#Each row represents the average price for cut-color combinations"
      ],
      "metadata": {
        "colab": {
          "base_uri": "https://localhost:8080/",
          "height": 443
        },
        "id": "p40Pt1UX3oVz",
        "outputId": "aa06c77c-d799-4224-d0e4-4af67d809bd0"
      },
      "execution_count": null,
      "outputs": [
        {
          "output_type": "execute_result",
          "data": {
            "text/plain": [
              "shape: (30, 3)\n",
              "┌─────────────────┬───────┬──────────────┐\n",
              "│ Cut             ┆ Color ┆ avg_Price    │\n",
              "│ ---             ┆ ---   ┆ ---          │\n",
              "│ str             ┆ str   ┆ f64          │\n",
              "╞═════════════════╪═══════╪══════════════╡\n",
              "│ Good            ┆ I     ┆ 8174.113043  │\n",
              "│ Ideal           ┆ D     ┆ 18461.953571 │\n",
              "│ Very Good       ┆ F     ┆ 12413.905495 │\n",
              "│ Very Good       ┆ E     ┆ 12101.910217 │\n",
              "│ Ideal           ┆ E     ┆ 12647.107914 │\n",
              "│ …               ┆ …     ┆ …            │\n",
              "│ Signature-Ideal ┆ D     ┆ 19823.1      │\n",
              "│ Good            ┆ G     ┆ 9988.614865  │\n",
              "│ Ideal           ┆ G     ┆ 13570.310145 │\n",
              "│ Good            ┆ D     ┆ 10058.716216 │\n",
              "│ Signature-Ideal ┆ G     ┆ 10248.296875 │\n",
              "└─────────────────┴───────┴──────────────┘"
            ],
            "text/html": [
              "<div><style>\n",
              ".dataframe > thead > tr,\n",
              ".dataframe > tbody > tr {\n",
              "  text-align: right;\n",
              "  white-space: pre-wrap;\n",
              "}\n",
              "</style>\n",
              "<small>shape: (30, 3)</small><table border=\"1\" class=\"dataframe\"><thead><tr><th>Cut</th><th>Color</th><th>avg_Price</th></tr><tr><td>str</td><td>str</td><td>f64</td></tr></thead><tbody><tr><td>&quot;Good&quot;</td><td>&quot;I&quot;</td><td>8174.113043</td></tr><tr><td>&quot;Ideal&quot;</td><td>&quot;D&quot;</td><td>18461.953571</td></tr><tr><td>&quot;Very Good&quot;</td><td>&quot;F&quot;</td><td>12413.905495</td></tr><tr><td>&quot;Very Good&quot;</td><td>&quot;E&quot;</td><td>12101.910217</td></tr><tr><td>&quot;Ideal&quot;</td><td>&quot;E&quot;</td><td>12647.107914</td></tr><tr><td>&hellip;</td><td>&hellip;</td><td>&hellip;</td></tr><tr><td>&quot;Signature-Ideal&quot;</td><td>&quot;D&quot;</td><td>19823.1</td></tr><tr><td>&quot;Good&quot;</td><td>&quot;G&quot;</td><td>9988.614865</td></tr><tr><td>&quot;Ideal&quot;</td><td>&quot;G&quot;</td><td>13570.310145</td></tr><tr><td>&quot;Good&quot;</td><td>&quot;D&quot;</td><td>10058.716216</td></tr><tr><td>&quot;Signature-Ideal&quot;</td><td>&quot;G&quot;</td><td>10248.296875</td></tr></tbody></table></div>"
            ]
          },
          "metadata": {},
          "execution_count": 12
        }
      ]
    },
    {
      "cell_type": "code",
      "source": [
        "#Question10\n",
        "cut_color_combo = df.group_by(['Cut', 'Color']).agg(\n",
        "    pl.col('Price').sum().alias('Total_Value'),\n",
        "    pl.col('Cut').count().alias('Diamond_Count')\n",
        ")\n",
        "cut_color_combo.head().sort('Total_Value', descending=True)"
      ],
      "metadata": {
        "colab": {
          "base_uri": "https://localhost:8080/",
          "height": 255
        },
        "id": "dl7vzEk43s5O",
        "outputId": "6701ba66-9cac-4af3-db40-bfa75523ca50"
      },
      "execution_count": null,
      "outputs": [
        {
          "output_type": "execute_result",
          "data": {
            "text/plain": [
              "shape: (5, 4)\n",
              "┌─────────────────┬───────┬─────────────┬───────────────┐\n",
              "│ Cut             ┆ Color ┆ Total_Value ┆ Diamond_Count │\n",
              "│ ---             ┆ ---   ┆ ---         ┆ ---           │\n",
              "│ str             ┆ str   ┆ i64         ┆ u32           │\n",
              "╞═════════════════╪═══════╪═════════════╪═══════════════╡\n",
              "│ Good            ┆ G     ┆ 1478315     ┆ 148           │\n",
              "│ Good            ┆ H     ┆ 1220497     ┆ 128           │\n",
              "│ Good            ┆ I     ┆ 940023      ┆ 115           │\n",
              "│ Signature-Ideal ┆ H     ┆ 410071      ┆ 45            │\n",
              "│ Fair            ┆ H     ┆ 141804      ┆ 24            │\n",
              "└─────────────────┴───────┴─────────────┴───────────────┘"
            ],
            "text/html": [
              "<div><style>\n",
              ".dataframe > thead > tr,\n",
              ".dataframe > tbody > tr {\n",
              "  text-align: right;\n",
              "  white-space: pre-wrap;\n",
              "}\n",
              "</style>\n",
              "<small>shape: (5, 4)</small><table border=\"1\" class=\"dataframe\"><thead><tr><th>Cut</th><th>Color</th><th>Total_Value</th><th>Diamond_Count</th></tr><tr><td>str</td><td>str</td><td>i64</td><td>u32</td></tr></thead><tbody><tr><td>&quot;Good&quot;</td><td>&quot;G&quot;</td><td>1478315</td><td>148</td></tr><tr><td>&quot;Good&quot;</td><td>&quot;H&quot;</td><td>1220497</td><td>128</td></tr><tr><td>&quot;Good&quot;</td><td>&quot;I&quot;</td><td>940023</td><td>115</td></tr><tr><td>&quot;Signature-Ideal&quot;</td><td>&quot;H&quot;</td><td>410071</td><td>45</td></tr><tr><td>&quot;Fair&quot;</td><td>&quot;H&quot;</td><td>141804</td><td>24</td></tr></tbody></table></div>"
            ]
          },
          "metadata": {},
          "execution_count": 13
        }
      ]
    }
  ]
}